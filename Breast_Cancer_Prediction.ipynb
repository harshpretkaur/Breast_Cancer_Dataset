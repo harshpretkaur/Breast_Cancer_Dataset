{
 "cells": [
  {
   "cell_type": "markdown",
   "id": "6f574a5c",
   "metadata": {},
   "source": [
    "## Importing necessary libraries and modules"
   ]
  },
  {
   "cell_type": "code",
   "execution_count": 41,
   "id": "c5903f77",
   "metadata": {},
   "outputs": [],
   "source": [
    "import numpy as np\n",
    "from sklearn import preprocessing, neighbors\n",
    "from sklearn.model_selection import train_test_split\n",
    "import pandas as pd\n",
    "from sklearn import svm"
   ]
  },
  {
   "cell_type": "markdown",
   "id": "12aa8bc6",
   "metadata": {},
   "source": [
    "## Importing the data file"
   ]
  },
  {
   "cell_type": "code",
   "execution_count": 42,
   "id": "12f93778",
   "metadata": {},
   "outputs": [],
   "source": [
    "df=pd.read_csv(\"breast-cancer-wisconsin.data\")\n"
   ]
  },
  {
   "cell_type": "code",
   "execution_count": 43,
   "id": "6348f936",
   "metadata": {},
   "outputs": [],
   "source": [
    "df.columns=['id',\n",
    "            'Thickness',\n",
    "            'Csize_uniformity',\n",
    "            'Cshape_uniformity',\n",
    "            'Marginal_Adhesn',\n",
    "            'Single_Epith_Csize',\n",
    "            'Bare_Nuclei',\n",
    "            'Bland_Chromatin',\n",
    "            'Normal_Nucleoli',\n",
    "            'Mitoses',\n",
    "            'Class']"
   ]
  },
  {
   "cell_type": "code",
   "execution_count": 44,
   "id": "d9e6408e",
   "metadata": {},
   "outputs": [
    {
     "data": {
      "text/html": [
       "<div>\n",
       "<style scoped>\n",
       "    .dataframe tbody tr th:only-of-type {\n",
       "        vertical-align: middle;\n",
       "    }\n",
       "\n",
       "    .dataframe tbody tr th {\n",
       "        vertical-align: top;\n",
       "    }\n",
       "\n",
       "    .dataframe thead th {\n",
       "        text-align: right;\n",
       "    }\n",
       "</style>\n",
       "<table border=\"1\" class=\"dataframe\">\n",
       "  <thead>\n",
       "    <tr style=\"text-align: right;\">\n",
       "      <th></th>\n",
       "      <th>id</th>\n",
       "      <th>Thickness</th>\n",
       "      <th>Csize_uniformity</th>\n",
       "      <th>Cshape_uniformity</th>\n",
       "      <th>Marginal_Adhesn</th>\n",
       "      <th>Single_Epith_Csize</th>\n",
       "      <th>Bare_Nuclei</th>\n",
       "      <th>Bland_Chromatin</th>\n",
       "      <th>Normal_Nucleoli</th>\n",
       "      <th>Mitoses</th>\n",
       "      <th>Class</th>\n",
       "    </tr>\n",
       "  </thead>\n",
       "  <tbody>\n",
       "    <tr>\n",
       "      <th>0</th>\n",
       "      <td>1002945</td>\n",
       "      <td>5</td>\n",
       "      <td>4</td>\n",
       "      <td>4</td>\n",
       "      <td>5</td>\n",
       "      <td>7</td>\n",
       "      <td>10</td>\n",
       "      <td>3</td>\n",
       "      <td>2</td>\n",
       "      <td>1</td>\n",
       "      <td>2</td>\n",
       "    </tr>\n",
       "    <tr>\n",
       "      <th>1</th>\n",
       "      <td>1015425</td>\n",
       "      <td>3</td>\n",
       "      <td>1</td>\n",
       "      <td>1</td>\n",
       "      <td>1</td>\n",
       "      <td>2</td>\n",
       "      <td>2</td>\n",
       "      <td>3</td>\n",
       "      <td>1</td>\n",
       "      <td>1</td>\n",
       "      <td>2</td>\n",
       "    </tr>\n",
       "    <tr>\n",
       "      <th>2</th>\n",
       "      <td>1016277</td>\n",
       "      <td>6</td>\n",
       "      <td>8</td>\n",
       "      <td>8</td>\n",
       "      <td>1</td>\n",
       "      <td>3</td>\n",
       "      <td>4</td>\n",
       "      <td>3</td>\n",
       "      <td>7</td>\n",
       "      <td>1</td>\n",
       "      <td>2</td>\n",
       "    </tr>\n",
       "    <tr>\n",
       "      <th>3</th>\n",
       "      <td>1017023</td>\n",
       "      <td>4</td>\n",
       "      <td>1</td>\n",
       "      <td>1</td>\n",
       "      <td>3</td>\n",
       "      <td>2</td>\n",
       "      <td>1</td>\n",
       "      <td>3</td>\n",
       "      <td>1</td>\n",
       "      <td>1</td>\n",
       "      <td>2</td>\n",
       "    </tr>\n",
       "    <tr>\n",
       "      <th>4</th>\n",
       "      <td>1017122</td>\n",
       "      <td>8</td>\n",
       "      <td>10</td>\n",
       "      <td>10</td>\n",
       "      <td>8</td>\n",
       "      <td>7</td>\n",
       "      <td>10</td>\n",
       "      <td>9</td>\n",
       "      <td>7</td>\n",
       "      <td>1</td>\n",
       "      <td>4</td>\n",
       "    </tr>\n",
       "    <tr>\n",
       "      <th>...</th>\n",
       "      <td>...</td>\n",
       "      <td>...</td>\n",
       "      <td>...</td>\n",
       "      <td>...</td>\n",
       "      <td>...</td>\n",
       "      <td>...</td>\n",
       "      <td>...</td>\n",
       "      <td>...</td>\n",
       "      <td>...</td>\n",
       "      <td>...</td>\n",
       "      <td>...</td>\n",
       "    </tr>\n",
       "    <tr>\n",
       "      <th>693</th>\n",
       "      <td>776715</td>\n",
       "      <td>3</td>\n",
       "      <td>1</td>\n",
       "      <td>1</td>\n",
       "      <td>1</td>\n",
       "      <td>3</td>\n",
       "      <td>2</td>\n",
       "      <td>1</td>\n",
       "      <td>1</td>\n",
       "      <td>1</td>\n",
       "      <td>2</td>\n",
       "    </tr>\n",
       "    <tr>\n",
       "      <th>694</th>\n",
       "      <td>841769</td>\n",
       "      <td>2</td>\n",
       "      <td>1</td>\n",
       "      <td>1</td>\n",
       "      <td>1</td>\n",
       "      <td>2</td>\n",
       "      <td>1</td>\n",
       "      <td>1</td>\n",
       "      <td>1</td>\n",
       "      <td>1</td>\n",
       "      <td>2</td>\n",
       "    </tr>\n",
       "    <tr>\n",
       "      <th>695</th>\n",
       "      <td>888820</td>\n",
       "      <td>5</td>\n",
       "      <td>10</td>\n",
       "      <td>10</td>\n",
       "      <td>3</td>\n",
       "      <td>7</td>\n",
       "      <td>3</td>\n",
       "      <td>8</td>\n",
       "      <td>10</td>\n",
       "      <td>2</td>\n",
       "      <td>4</td>\n",
       "    </tr>\n",
       "    <tr>\n",
       "      <th>696</th>\n",
       "      <td>897471</td>\n",
       "      <td>4</td>\n",
       "      <td>8</td>\n",
       "      <td>6</td>\n",
       "      <td>4</td>\n",
       "      <td>3</td>\n",
       "      <td>4</td>\n",
       "      <td>10</td>\n",
       "      <td>6</td>\n",
       "      <td>1</td>\n",
       "      <td>4</td>\n",
       "    </tr>\n",
       "    <tr>\n",
       "      <th>697</th>\n",
       "      <td>897471</td>\n",
       "      <td>4</td>\n",
       "      <td>8</td>\n",
       "      <td>8</td>\n",
       "      <td>5</td>\n",
       "      <td>4</td>\n",
       "      <td>5</td>\n",
       "      <td>10</td>\n",
       "      <td>4</td>\n",
       "      <td>1</td>\n",
       "      <td>4</td>\n",
       "    </tr>\n",
       "  </tbody>\n",
       "</table>\n",
       "<p>698 rows × 11 columns</p>\n",
       "</div>"
      ],
      "text/plain": [
       "          id  Thickness  Csize_uniformity  Cshape_uniformity  Marginal_Adhesn  \\\n",
       "0    1002945          5                 4                  4                5   \n",
       "1    1015425          3                 1                  1                1   \n",
       "2    1016277          6                 8                  8                1   \n",
       "3    1017023          4                 1                  1                3   \n",
       "4    1017122          8                10                 10                8   \n",
       "..       ...        ...               ...                ...              ...   \n",
       "693   776715          3                 1                  1                1   \n",
       "694   841769          2                 1                  1                1   \n",
       "695   888820          5                10                 10                3   \n",
       "696   897471          4                 8                  6                4   \n",
       "697   897471          4                 8                  8                5   \n",
       "\n",
       "     Single_Epith_Csize Bare_Nuclei  Bland_Chromatin  Normal_Nucleoli  \\\n",
       "0                     7          10                3                2   \n",
       "1                     2           2                3                1   \n",
       "2                     3           4                3                7   \n",
       "3                     2           1                3                1   \n",
       "4                     7          10                9                7   \n",
       "..                  ...         ...              ...              ...   \n",
       "693                   3           2                1                1   \n",
       "694                   2           1                1                1   \n",
       "695                   7           3                8               10   \n",
       "696                   3           4               10                6   \n",
       "697                   4           5               10                4   \n",
       "\n",
       "     Mitoses  Class  \n",
       "0          1      2  \n",
       "1          1      2  \n",
       "2          1      2  \n",
       "3          1      2  \n",
       "4          1      4  \n",
       "..       ...    ...  \n",
       "693        1      2  \n",
       "694        1      2  \n",
       "695        2      4  \n",
       "696        1      4  \n",
       "697        1      4  \n",
       "\n",
       "[698 rows x 11 columns]"
      ]
     },
     "execution_count": 44,
     "metadata": {},
     "output_type": "execute_result"
    }
   ],
   "source": [
    "df"
   ]
  },
  {
   "cell_type": "markdown",
   "id": "836a3b1b",
   "metadata": {},
   "source": [
    "## Data preparation"
   ]
  },
  {
   "cell_type": "code",
   "execution_count": 45,
   "id": "17d526e3",
   "metadata": {},
   "outputs": [],
   "source": [
    "df.replace('?',-99999,inplace=True)"
   ]
  },
  {
   "cell_type": "code",
   "execution_count": 46,
   "id": "e18083f0",
   "metadata": {},
   "outputs": [],
   "source": [
    "# df.drop(['id'],1,inplace=True)"
   ]
  },
  {
   "cell_type": "code",
   "execution_count": 47,
   "id": "2dc49eaa",
   "metadata": {},
   "outputs": [],
   "source": [
    "df.dropna(inplace=True)"
   ]
  },
  {
   "cell_type": "markdown",
   "id": "9c86ad91",
   "metadata": {},
   "source": [
    "## Defining features and labels before defining the model"
   ]
  },
  {
   "cell_type": "code",
   "execution_count": 48,
   "id": "df0af806",
   "metadata": {},
   "outputs": [
    {
     "name": "stderr",
     "output_type": "stream",
     "text": [
      "C:\\Users\\HARSHP~1\\AppData\\Local\\Temp/ipykernel_14632/1572443736.py:1: FutureWarning: In a future version of pandas all arguments of DataFrame.drop except for the argument 'labels' will be keyword-only\n",
      "  X=np.array(df.drop(['Class'],1))\n"
     ]
    }
   ],
   "source": [
    "X=np.array(df.drop(['Class'],1))\n",
    "y=np.array(df['Class'])"
   ]
  },
  {
   "cell_type": "markdown",
   "id": "65f9a47d",
   "metadata": {},
   "source": [
    "##  Dividing the data into training and testing sets"
   ]
  },
  {
   "cell_type": "code",
   "execution_count": 49,
   "id": "1526e61d",
   "metadata": {},
   "outputs": [],
   "source": [
    "X_train,X_test,y_train,y_test=train_test_split(X,y,test_size=0.33)"
   ]
  },
  {
   "cell_type": "markdown",
   "id": "8335de48",
   "metadata": {},
   "source": [
    "## Defining a classifier"
   ]
  },
  {
   "cell_type": "code",
   "execution_count": 36,
   "id": "40c7fa58",
   "metadata": {},
   "outputs": [],
   "source": [
    "cfr=neighbors.KNeighborsClassifier()\n",
    "cfr=svm.SVC()"
   ]
  },
  {
   "cell_type": "code",
   "execution_count": 37,
   "id": "1609677d",
   "metadata": {},
   "outputs": [
    {
     "data": {
      "text/plain": [
       "SVC()"
      ]
     },
     "execution_count": 37,
     "metadata": {},
     "output_type": "execute_result"
    }
   ],
   "source": [
    "cfr.fit(X_train,y_train)"
   ]
  },
  {
   "cell_type": "markdown",
   "id": "fefe4b61",
   "metadata": {},
   "source": [
    "## Determing the accuracy"
   ]
  },
  {
   "cell_type": "code",
   "execution_count": 38,
   "id": "70a5fe6b",
   "metadata": {},
   "outputs": [
    {
     "data": {
      "text/plain": [
       "0.6233766233766234"
      ]
     },
     "execution_count": 38,
     "metadata": {},
     "output_type": "execute_result"
    }
   ],
   "source": [
    "accuracy=cfr.score(X_test,y_test)\n",
    "accuracy"
   ]
  },
  {
   "cell_type": "code",
   "execution_count": 40,
   "id": "20e93ced",
   "metadata": {},
   "outputs": [
    {
     "data": {
      "text/plain": [
       "array([2, 2], dtype=int64)"
      ]
     },
     "execution_count": 40,
     "metadata": {},
     "output_type": "execute_result"
    }
   ],
   "source": [
    "predict=np.array([[1,5,1,2,2,2,1,1,2,2],[1111,5,1,2,2,2,1,1,-99999,-99999]])\n",
    "predict=predict.reshape(len(predict),-1)\n",
    "x=cfr.predict(predict)\n",
    "x"
   ]
  },
  {
   "cell_type": "code",
   "execution_count": null,
   "id": "88919e42",
   "metadata": {},
   "outputs": [],
   "source": [
    "\n"
   ]
  }
 ],
 "metadata": {
  "kernelspec": {
   "display_name": "Python 3 (ipykernel)",
   "language": "python",
   "name": "python3"
  },
  "language_info": {
   "codemirror_mode": {
    "name": "ipython",
    "version": 3
   },
   "file_extension": ".py",
   "mimetype": "text/x-python",
   "name": "python",
   "nbconvert_exporter": "python",
   "pygments_lexer": "ipython3",
   "version": "3.9.5"
  }
 },
 "nbformat": 4,
 "nbformat_minor": 5
}
